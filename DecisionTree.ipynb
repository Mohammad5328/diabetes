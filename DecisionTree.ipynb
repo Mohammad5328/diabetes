{
 "cells": [
  {
   "cell_type": "code",
   "execution_count": 1,
   "id": "5ede1b66",
   "metadata": {},
   "outputs": [],
   "source": [
    "from sklearn.tree import DecisionTreeClassifier\n",
    "from sklearn.model_selection import train_test_split\n",
    "from sklearn import metrics \n",
    "import pandas as pd\n",
    "model = DecisionTreeClassifier()\n",
    "df = pd.read_csv('diabetes (3).csv')"
   ]
  },
  {
   "cell_type": "code",
   "execution_count": 2,
   "id": "3f178b69",
   "metadata": {},
   "outputs": [],
   "source": [
    "# Edite and Category data\n",
    "x = df.drop('Outcome',axis=1)\n",
    "y =df.Outcome\n",
    "X_train,X_test,y_train,y_test = train_test_split(x,y ,test_size=0.2 , random_state= 109)"
   ]
  },
  {
   "cell_type": "code",
   "execution_count": 3,
   "id": "cc8b376d",
   "metadata": {},
   "outputs": [],
   "source": [
    "# fit ai and predict data\n",
    "model.fit(X_train,y_train)\n",
    "out = model.predict(X_test)"
   ]
  },
  {
   "cell_type": "code",
   "execution_count": null,
   "id": "1e2d6d17",
   "metadata": {},
   "outputs": [
    {
     "name": "stdout",
     "output_type": "stream",
     "text": [
      "[0 1 1 0 0 0 0 0 0 0 0 0 1 0 1 0 0 0 0 0 0 0 0 1 0 0 1 1 0 0 0 0 0 1 0 0 0\n",
      " 0 0 0 0 0 1 0 0 1 0 1 1 1 0 0 0 0 0 1 1 0 0 1 0 0 1 1 0 0 0 0 0 1 0 0 0 1\n",
      " 0 0 1 0 0 1 0 0 1 0 1 1 1 1 0 1 1 1 1 1 0 1 0 0 0 1 0 0 1 0 1 1 1 1 0 0 0\n",
      " 0 1 1 0 0 0 1 1 1 0 0 0 0 0 0 1 0 0 0 0 1 0 0 1 1 1 0 0 1 1 0 0 1 0 1 1 0\n",
      " 0 1 0 1 1 0]\n"
     ]
    }
   ],
   "source": [
    "# output model(ai)\n",
    "print(out)"
   ]
  },
  {
   "cell_type": "code",
   "execution_count": 5,
   "id": "0dabc994",
   "metadata": {},
   "outputs": [
    {
     "name": "stdout",
     "output_type": "stream",
     "text": [
      "210    0\n",
      "2      1\n",
      "660    0\n",
      "165    1\n",
      "543    0\n",
      "      ..\n",
      "732    1\n",
      "753    1\n",
      "699    0\n",
      "327    0\n",
      "629    0\n",
      "Name: Outcome, Length: 154, dtype: int64\n"
     ]
    }
   ],
   "source": [
    "# output True\n",
    "print(y_test)"
   ]
  },
  {
   "cell_type": "code",
   "execution_count": 6,
   "id": "f94b8aab",
   "metadata": {},
   "outputs": [
    {
     "name": "stdout",
     "output_type": "stream",
     "text": [
      "70.12987012987013\n"
     ]
    }
   ],
   "source": [
    "# The accuracy of ai\n",
    "print(metrics.accuracy_score(y_test,out) * 100 )"
   ]
  }
 ],
 "metadata": {
  "kernelspec": {
   "display_name": "Python 3",
   "language": "python",
   "name": "python3"
  },
  "language_info": {
   "codemirror_mode": {
    "name": "ipython",
    "version": 3
   },
   "file_extension": ".py",
   "mimetype": "text/x-python",
   "name": "python",
   "nbconvert_exporter": "python",
   "pygments_lexer": "ipython3",
   "version": "3.8.8"
  }
 },
 "nbformat": 4,
 "nbformat_minor": 5
}
